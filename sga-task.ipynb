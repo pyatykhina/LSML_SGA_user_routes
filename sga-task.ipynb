{
 "cells": [
  {
   "cell_type": "markdown",
   "metadata": {},
   "source": [
    "# User routes on the site\n",
    "## Description\n",
    "**Clickstream** is a sequence of user actions on a website. It allows you to understand how users interact with the site. In this task, you need to find the most frequent custom routes.\n",
    "\n",
    "## Input data\n",
    "Input data is а table with clickstream data in file `hdfs:/data/clickstream.csv`.\n",
    "\n",
    "### Table structure\n",
    "* `user_id (int)` - Unique user identifier.\n",
    "* `session_id (int)` - Unique identifier for the user session. The user\"s session lasts until the identifier changes.\n",
    "* `event_type (string)` - Event type from the list:\n",
    "    * **page** - visit to the page\n",
    "    * **event** - any action on the page\n",
    "    * <b>&lt;custom&gt;</b> - string with any other type\n",
    "* `event_type (string)` - Page on the site.\n",
    "* `timestamp (int)` - Unix-timestamp of action.\n",
    "\n",
    "### Browser errors\n",
    "Errors can sometimes occur in the user\"s browser - after such an error appears, we can no longer trust the data of this session and all the following lines after the error or at the same time with it are considered corrupted and **should not be counted** in statistics.\n",
    "\n",
    "When an error occurs on the page, a random string containing the word **error** will be written to the `event_type` field.\n",
    "\n",
    "### Sample of user session\n",
    "<pre>\n",
    "+-------+----------+------------+----------+----------+\n",
    "|user_id|session_id|  event_type|event_page| timestamp|\n",
    "+-------+----------+------------+----------+----------+\n",
    "|    562|       507|        page|      main|1620494781|\n",
    "|    562|       507|       event|      main|1620494788|\n",
    "|    562|       507|       event|      main|1620494798|\n",
    "|    562|       507|        page|    family|1620494820|\n",
    "|    562|       507|       event|    family|1620494828|\n",
    "|    562|       507|        page|      main|1620494848|\n",
    "|    562|       507|wNaxLlerrorU|      main|1620494865|\n",
    "|    562|       507|       event|      main|1620494873|\n",
    "|    562|       507|        page|      news|1620494875|\n",
    "|    562|       507|        page|   tariffs|1620494876|\n",
    "|    562|       507|       event|   tariffs|1620494884|\n",
    "|    562|       514|        page|      main|1620728918|\n",
    "|    562|       514|       event|      main|1620729174|\n",
    "|    562|       514|        page|   archive|1620729674|\n",
    "|    562|       514|        page|     bonus|1620729797|\n",
    "|    562|       514|        page|   tariffs|1620731090|\n",
    "|    562|       514|       event|   tariffs|1620731187|\n",
    "+-------+----------+------------+----------+----------+\n",
    "</pre>\n",
    "\n",
    "#### Correct user routes for a given user:\n",
    "* **Session 507**: main-family-main\n",
    "* **Session 514**: main-archive-bonus-tariffs\n",
    "\n",
    "Route elements are ordered by the time they appear in the clickstream, from earliest to latest.\n",
    "\n",
    "The route must be accounted for completely before the end of the session or an error in the session.\n",
    "\n",
    "## Task\n",
    "You need to use the Spark SQL, Spark RDD and Spark DF interfaces to create a solution file, the lines of which contain **the 30 most frequent user routes** on the site.\n",
    "\n",
    "Each line of the file should contain the `route` and `count` values **separated by tabs**, where:\n",
    "* `route` - route on the site, consisting of pages separated by \"-\".\n",
    "* `count` - the number of user sessions in which this route was.\n",
    "\n",
    "The lines must be **ordered in descending order** of the `count` field.\n",
    "\n",
    "## Criteria\n",
    "You can get maximum of 3.5 points (final grade) for this assignment, depedning on the number of interface you manage to leverage. The criteria are as follows:\n",
    "\n",
    "* 0.5 points – Spark SQL solution with 1 query\n",
    "* 0.5 points – Spark SQL solution with <=2 queries\n",
    "* 0.5 points – Spark RDD solution\n",
    "* 0.5 points – Spark DF solution\n",
    "* 0.5 points – your solution algorithm is relatively optimized, i.e.: no O^2 or O^3 complexities; appropriate object usage; no data leaks etc. This is evaluated by staff.\n",
    "* 1 point – 1 on 1 screening session. During this session staff member can ask you questions regarding your solution logic, framework usage, questionable parts of your code etc. If your code is clean enough, the staff member can just ask you to solve a theoretical problem connected to Spark.\n"
   ]
  },
  {
   "cell_type": "markdown",
   "metadata": {},
   "source": []
  },
  {
   "cell_type": "code",
   "execution_count": 1,
   "metadata": {},
   "outputs": [
    {
     "name": "stdout",
     "output_type": "stream",
     "text": [
      "Requirement already satisfied: pyspark==3.2.1 in /opt/conda/lib/python3.10/site-packages (3.2.1)\n",
      "Requirement already satisfied: py4j==0.10.9.3 in /opt/conda/lib/python3.10/site-packages (from pyspark==3.2.1) (0.10.9.3)\n"
     ]
    }
   ],
   "source": [
    "!pip install pyspark==3.2.1"
   ]
  },
  {
   "cell_type": "code",
   "execution_count": 2,
   "metadata": {},
   "outputs": [
    {
     "name": "stderr",
     "output_type": "stream",
     "text": [
      "Setting default log level to \"WARN\".\n",
      "To adjust logging level use sc.setLogLevel(newLevel). For SparkR, use setLogLevel(newLevel).\n",
      "2024-10-27 12:35:53,866 WARN yarn.Client: Neither spark.yarn.jars nor spark.yarn.archive is set, falling back to uploading libraries under SPARK_HOME.\n"
     ]
    }
   ],
   "source": [
    "# create Spark session\n",
    "\n",
    "import findspark\n",
    "findspark.init()\n",
    "\n",
    "from pyspark import SparkContext\n",
    "sc = SparkContext(appName=\"sga\").getOrCreate()\n",
    "\n",
    "from pyspark.sql import SparkSession\n",
    "se = SparkSession(sc)"
   ]
  },
  {
   "cell_type": "code",
   "execution_count": 3,
   "metadata": {},
   "outputs": [
    {
     "name": "stderr",
     "output_type": "stream",
     "text": [
      "[Stage 1:>                                                          (0 + 1) / 1]\r"
     ]
    },
    {
     "name": "stdout",
     "output_type": "stream",
     "text": [
      "+-------+----------+------------+----------+----------+\n",
      "|user_id|session_id|event_type  |event_page|timestamp |\n",
      "+-------+----------+------------+----------+----------+\n",
      "|562    |507       |page        |main      |1695584127|\n",
      "|562    |507       |event       |main      |1695584134|\n",
      "|562    |507       |event       |main      |1695584144|\n",
      "|562    |507       |event       |main      |1695584147|\n",
      "|562    |507       |wNaxLlerrorU|main      |1695584154|\n",
      "|562    |507       |event       |main      |1695584154|\n",
      "|562    |507       |event       |main      |1695584154|\n",
      "|562    |507       |event       |main      |1695584160|\n",
      "|562    |507       |page        |rabota    |1695584166|\n",
      "|562    |507       |event       |rabota    |1695584174|\n",
      "|562    |507       |event       |rabota    |1695584181|\n",
      "|562    |507       |event       |rabota    |1695584189|\n",
      "|562    |507       |page        |main      |1695584194|\n",
      "|562    |507       |event       |main      |1695584204|\n",
      "|562    |507       |event       |main      |1695584211|\n",
      "|562    |507       |event       |main      |1695584211|\n",
      "|562    |507       |event       |main      |1695584219|\n",
      "|562    |507       |page        |bonus     |1695584221|\n",
      "|562    |507       |page        |online    |1695584222|\n",
      "|562    |507       |event       |online    |1695584230|\n",
      "+-------+----------+------------+----------+----------+\n",
      "only showing top 20 rows\n",
      "\n"
     ]
    },
    {
     "name": "stderr",
     "output_type": "stream",
     "text": [
      "                                                                                \r"
     ]
    }
   ],
   "source": [
    "# data loading\n",
    "\n",
    "clickstream_dir = \"hdfs:/data/clickstream.csv\"\n",
    "\n",
    "clickstream_df = se.read.csv(clickstream_dir, sep=\"\\t\", header=True)\n",
    "clickstream_df.show(truncate=False)"
   ]
  },
  {
   "cell_type": "code",
   "execution_count": 4,
   "metadata": {},
   "outputs": [],
   "source": [
    "clickstream_df.createOrReplaceTempView(\"clickstream_df\")"
   ]
  },
  {
   "cell_type": "code",
   "execution_count": 5,
   "metadata": {},
   "outputs": [],
   "source": [
    "from pyspark.sql import functions as F\n",
    "from pyspark.sql.types import StringType"
   ]
  },
  {
   "cell_type": "code",
   "execution_count": 6,
   "metadata": {},
   "outputs": [],
   "source": [
    "def generate_route(events: list[tuple[str, str, str]]) -> str:\n",
    "    '''\n",
    "    Generates the route for user session\n",
    "    '''\n",
    "    sorted_events = sorted(events, key=lambda x: x[\"timestamp\"])\n",
    "    route = []\n",
    "    last_page = None\n",
    "    \n",
    "    for event in sorted_events:\n",
    "        # stop process session after error\n",
    "        if \"error\" in event[\"event_type\"]:\n",
    "            break\n",
    "        \n",
    "        # check page change\n",
    "        if event[\"event_type\"] == \"page\" and event[\"event_page\"] != last_page:\n",
    "            route.append(event[\"event_page\"])\n",
    "            last_page = event[\"event_page\"]\n",
    "\n",
    "    return \"-\".join(route)"
   ]
  },
  {
   "cell_type": "code",
   "execution_count": null,
   "metadata": {},
   "outputs": [],
   "source": []
  },
  {
   "cell_type": "markdown",
   "metadata": {},
   "source": [
    "## Spark SQL"
   ]
  },
  {
   "cell_type": "code",
   "execution_count": 7,
   "metadata": {
    "tags": []
   },
   "outputs": [
    {
     "data": {
      "text/plain": [
       "<function __main__.generate_route(events: list[tuple[str, str, str]]) -> str>"
      ]
     },
     "execution_count": 7,
     "metadata": {},
     "output_type": "execute_result"
    }
   ],
   "source": [
    "se.udf.register(\"generate_route_udf\", generate_route, StringType())"
   ]
  },
  {
   "cell_type": "code",
   "execution_count": 8,
   "metadata": {
    "tags": []
   },
   "outputs": [
    {
     "name": "stderr",
     "output_type": "stream",
     "text": [
      "[Stage 4:>                                                          (0 + 1) / 1]\r"
     ]
    },
    {
     "name": "stdout",
     "output_type": "stream",
     "text": [
      "+-------+----------+--------------------+\n",
      "|user_id|session_id|               route|\n",
      "+-------+----------+--------------------+\n",
      "|      1|      1026|                main|\n",
      "|     10|       762|main-internet-arc...|\n",
      "|   1002|       285|main-news-interne...|\n",
      "|   1007|        82|main-archive-digital|\n",
      "|   1009|       639|main-online-inter...|\n",
      "|   1010|       141|main-internet-arc...|\n",
      "|   1014|       341|main-internet-tar...|\n",
      "|   1019|       669|main-bonus-main-a...|\n",
      "|   1029|        58|main-archive-digital|\n",
      "|    103|        72|main-bonus-archiv...|\n",
      "|    103|        81|         main-rabota|\n",
      "|   1030|       890|main-archive-bonu...|\n",
      "|   1032|       257|          main-vklad|\n",
      "|   1033|       604|   main-bonus-rabota|\n",
      "|    104|       185|main-rabota-onlin...|\n",
      "|   1040|       393| main-vklad-internet|\n",
      "|   1040|       415|main-tariffs-arch...|\n",
      "|   1042|       950|main-news-rabota-...|\n",
      "|   1045|        12|          main-vklad|\n",
      "|   1048|       252|main-archive-main...|\n",
      "+-------+----------+--------------------+\n",
      "only showing top 20 rows\n",
      "\n"
     ]
    },
    {
     "name": "stderr",
     "output_type": "stream",
     "text": [
      "                                                                                \r"
     ]
    }
   ],
   "source": [
    "# generate all possible routes\n",
    "\n",
    "generated_routes_sql = se.sql(\"\"\"\n",
    "    SELECT \n",
    "        user_id,\n",
    "        session_id,\n",
    "        generate_route_udf(collect_list(struct(event_type, event_page, timestamp))) AS route\n",
    "    FROM\n",
    "        clickstream_df\n",
    "    GROUP BY \n",
    "        user_id, session_id\n",
    "\"\"\")\n",
    "\n",
    "generated_routes_sql.show()"
   ]
  },
  {
   "cell_type": "code",
   "execution_count": 9,
   "metadata": {
    "tags": []
   },
   "outputs": [],
   "source": [
    "generated_routes_sql.createOrReplaceTempView(\"generated_routes_sql\")"
   ]
  },
  {
   "cell_type": "code",
   "execution_count": 10,
   "metadata": {
    "tags": []
   },
   "outputs": [
    {
     "name": "stderr",
     "output_type": "stream",
     "text": [
      "                                                                                \r"
     ]
    },
    {
     "name": "stdout",
     "output_type": "stream",
     "text": [
      "+---------------------+-----+\n",
      "|route                |count|\n",
      "+---------------------+-----+\n",
      "|main                 |8185 |\n",
      "|main-archive         |1113 |\n",
      "|main-rabota          |1047 |\n",
      "|main-internet        |897  |\n",
      "|main-bonus           |870  |\n",
      "|main-news            |769  |\n",
      "|main-tariffs         |677  |\n",
      "|main-online          |587  |\n",
      "|main-vklad           |518  |\n",
      "|main-rabota-archive  |170  |\n",
      "|main-archive-rabota  |167  |\n",
      "|main-bonus-archive   |143  |\n",
      "|main-rabota-bonus    |139  |\n",
      "|main-bonus-rabota    |135  |\n",
      "|main-news-rabota     |135  |\n",
      "|main-archive-internet|132  |\n",
      "|main-rabota-news     |130  |\n",
      "|main-internet-rabota |129  |\n",
      "|main-archive-news    |126  |\n",
      "|main-rabota-internet |124  |\n",
      "+---------------------+-----+\n",
      "only showing top 20 rows\n",
      "\n"
     ]
    }
   ],
   "source": [
    "# count unique routes and take top-30 \n",
    "\n",
    "top_routes_sql = se.sql(\"\"\"\n",
    "    SELECT \n",
    "        route, \n",
    "        COUNT(*) AS count\n",
    "    FROM \n",
    "        generated_routes_sql\n",
    "    GROUP BY\n",
    "        route\n",
    "    ORDER BY \n",
    "        count DESC\n",
    "    LIMIT 30\n",
    "\"\"\")\n",
    "\n",
    "top_routes_sql.show(truncate=False)"
   ]
  },
  {
   "cell_type": "code",
   "execution_count": 11,
   "metadata": {
    "tags": []
   },
   "outputs": [
    {
     "name": "stderr",
     "output_type": "stream",
     "text": [
      "                                                                                \r"
     ]
    },
    {
     "name": "stdout",
     "output_type": "stream",
     "text": [
      "Found 2 items\n",
      "-rw-r--r--   1 jovyan supergroup          0 2024-10-27 12:37 hdfs:///data/top_routes_sql/_SUCCESS\n",
      "-rw-r--r--   1 jovyan supergroup        632 2024-10-27 12:37 hdfs:///data/top_routes_sql/part-00000-5378b071-82ed-4ec9-8193-87719d5cecb4-c000.csv\n"
     ]
    }
   ],
   "source": [
    "# write solution file\n",
    "\n",
    "top_routes_sql \\\n",
    "    .coalesce(1) \\\n",
    "    .write \\\n",
    "    .mode(\"overwrite\") \\\n",
    "    .option(\"sep\", \"\\t\") \\\n",
    "    .csv(\"hdfs:/data/top_routes_sql\")\n",
    "\n",
    "!rm -f ./top_routes_sql.txt\n",
    "!hdfs dfs -ls hdfs:/data/top_routes_sql\n",
    "!hdfs dfs -get hdfs:/data/top_routes_sql/part-00000-* ./top_routes_sql.txt"
   ]
  },
  {
   "cell_type": "code",
   "execution_count": 12,
   "metadata": {
    "tags": []
   },
   "outputs": [
    {
     "name": "stderr",
     "output_type": "stream",
     "text": [
      "                                                                                \r"
     ]
    },
    {
     "data": {
      "text/plain": [
       "{'main': 8185,\n",
       " 'main-archive': 1113,\n",
       " 'main-rabota': 1047,\n",
       " 'main-internet': 897,\n",
       " 'main-bonus': 870,\n",
       " 'main-news': 769,\n",
       " 'main-tariffs': 677,\n",
       " 'main-online': 587,\n",
       " 'main-vklad': 518,\n",
       " 'main-rabota-archive': 170}"
      ]
     },
     "execution_count": 12,
     "metadata": {},
     "output_type": "execute_result"
    }
   ],
   "source": [
    "top_10_routes_sql = top_routes_sql.limit(10).collect()\n",
    "top_10_routes_sql_list = {row['route']: row['count'] for row in top_10_routes_sql}\n",
    "\n",
    "top_10_routes_sql_list"
   ]
  },
  {
   "cell_type": "code",
   "execution_count": null,
   "metadata": {},
   "outputs": [],
   "source": []
  },
  {
   "cell_type": "markdown",
   "metadata": {},
   "source": [
    "## Spark RDD"
   ]
  },
  {
   "cell_type": "code",
   "execution_count": 13,
   "metadata": {
    "tags": []
   },
   "outputs": [],
   "source": [
    "clickstream_rdd = clickstream_df.rdd"
   ]
  },
  {
   "cell_type": "code",
   "execution_count": 14,
   "metadata": {
    "tags": []
   },
   "outputs": [],
   "source": [
    "parsed_rdd = clickstream_rdd.map(lambda row: {\n",
    "    \"user_id\": int(row[0]),\n",
    "    \"session_id\": int(row[1]),\n",
    "    \"timestamp\": int(row[4]),\n",
    "    \"event_type\": row[2],\n",
    "    \"event_page\": row[3]\n",
    "})"
   ]
  },
  {
   "cell_type": "code",
   "execution_count": 15,
   "metadata": {},
   "outputs": [],
   "source": [
    "# generate all possible routes\n",
    "\n",
    "generated_routes_rdd = parsed_rdd \\\n",
    "    .groupBy(lambda x: (x[\"user_id\"], x[\"session_id\"])) \\\n",
    "    .mapValues(generate_route)"
   ]
  },
  {
   "cell_type": "code",
   "execution_count": 16,
   "metadata": {
    "tags": []
   },
   "outputs": [
    {
     "name": "stderr",
     "output_type": "stream",
     "text": [
      "                                                                                \r"
     ]
    },
    {
     "data": {
      "text/plain": [
       "[('main', 8185),\n",
       " ('main-archive', 1113),\n",
       " ('main-rabota', 1047),\n",
       " ('main-internet', 897),\n",
       " ('main-bonus', 870),\n",
       " ('main-news', 769),\n",
       " ('main-tariffs', 677),\n",
       " ('main-online', 587),\n",
       " ('main-vklad', 518),\n",
       " ('main-rabota-archive', 170),\n",
       " ('main-archive-rabota', 167),\n",
       " ('main-bonus-archive', 143),\n",
       " ('main-rabota-bonus', 139),\n",
       " ('main-news-rabota', 135),\n",
       " ('main-bonus-rabota', 135),\n",
       " ('main-archive-internet', 132),\n",
       " ('main-rabota-news', 130),\n",
       " ('main-internet-rabota', 129),\n",
       " ('main-archive-news', 126),\n",
       " ('main-rabota-internet', 124),\n",
       " ('main-internet-archive', 123),\n",
       " ('main-archive-bonus', 117),\n",
       " ('main-internet-bonus', 115),\n",
       " ('main-news-archive', 113),\n",
       " ('main-tariffs-internet', 113),\n",
       " ('main-news-internet', 109),\n",
       " ('main-archive-tariffs', 104),\n",
       " ('main-internet-news', 103),\n",
       " ('main-tariffs-archive', 103),\n",
       " ('main-rabota-main', 94)]"
      ]
     },
     "execution_count": 16,
     "metadata": {},
     "output_type": "execute_result"
    }
   ],
   "source": [
    "# count unique routes and take top-30 \n",
    "\n",
    "top_routes_rdd = generated_routes_rdd \\\n",
    "    .map(lambda x: (x[1], 1)) \\\n",
    "    .reduceByKey(lambda a, b: a + b) \\\n",
    "    .top(30, key=lambda x: x[1])\n",
    "\n",
    "top_routes_rdd"
   ]
  },
  {
   "cell_type": "code",
   "execution_count": 17,
   "metadata": {
    "tags": []
   },
   "outputs": [],
   "source": [
    "# write solution file\n",
    "\n",
    "!rm -f ./top_routes_rdd.txt\n",
    "\n",
    "with open('top_routes_rdd.txt', \"w\") as f:\n",
    "    for route, count in top_routes_rdd:\n",
    "        f.write(f\"{route}\\t{count}\\n\")"
   ]
  },
  {
   "cell_type": "code",
   "execution_count": 18,
   "metadata": {},
   "outputs": [
    {
     "data": {
      "text/plain": [
       "[('main', 8185),\n",
       " ('main-archive', 1113),\n",
       " ('main-rabota', 1047),\n",
       " ('main-internet', 897),\n",
       " ('main-bonus', 870),\n",
       " ('main-news', 769),\n",
       " ('main-tariffs', 677),\n",
       " ('main-online', 587),\n",
       " ('main-vklad', 518),\n",
       " ('main-rabota-archive', 170)]"
      ]
     },
     "execution_count": 18,
     "metadata": {},
     "output_type": "execute_result"
    }
   ],
   "source": [
    "top_10_routes_rdd_list = top_routes_rdd[:10]\n",
    "\n",
    "top_10_routes_rdd_list"
   ]
  },
  {
   "cell_type": "code",
   "execution_count": null,
   "metadata": {},
   "outputs": [],
   "source": []
  },
  {
   "cell_type": "markdown",
   "metadata": {},
   "source": [
    "## Spark DF"
   ]
  },
  {
   "cell_type": "code",
   "execution_count": 19,
   "metadata": {},
   "outputs": [],
   "source": [
    "generate_route_udf = F.udf(lambda events: generate_route(events), StringType())"
   ]
  },
  {
   "cell_type": "code",
   "execution_count": 20,
   "metadata": {
    "tags": []
   },
   "outputs": [],
   "source": [
    "# generate all possible routes\n",
    "\n",
    "generated_routes_df = clickstream_df \\\n",
    "    .groupBy(\"user_id\", \"session_id\") \\\n",
    "    .agg(F.collect_list(F.struct(\"event_type\", \"event_page\", \"timestamp\")) \\\n",
    "    .alias(\"events\")) \\\n",
    "    .withColumn(\"route\", generate_route_udf(F.col(\"events\"))) \\\n",
    "    .drop(\"events\")"
   ]
  },
  {
   "cell_type": "code",
   "execution_count": 21,
   "metadata": {
    "tags": []
   },
   "outputs": [
    {
     "name": "stderr",
     "output_type": "stream",
     "text": [
      "                                                                                \r"
     ]
    },
    {
     "data": {
      "text/plain": [
       "[Row(route='main', count=8185),\n",
       " Row(route='main-archive', count=1113),\n",
       " Row(route='main-rabota', count=1047),\n",
       " Row(route='main-internet', count=897),\n",
       " Row(route='main-bonus', count=870),\n",
       " Row(route='main-news', count=769),\n",
       " Row(route='main-tariffs', count=677),\n",
       " Row(route='main-online', count=587),\n",
       " Row(route='main-vklad', count=518),\n",
       " Row(route='main-rabota-archive', count=170),\n",
       " Row(route='main-archive-rabota', count=167),\n",
       " Row(route='main-bonus-archive', count=143),\n",
       " Row(route='main-rabota-bonus', count=139),\n",
       " Row(route='main-news-rabota', count=135),\n",
       " Row(route='main-bonus-rabota', count=135),\n",
       " Row(route='main-archive-internet', count=132),\n",
       " Row(route='main-rabota-news', count=130),\n",
       " Row(route='main-internet-rabota', count=129),\n",
       " Row(route='main-archive-news', count=126),\n",
       " Row(route='main-rabota-internet', count=124),\n",
       " Row(route='main-internet-archive', count=123),\n",
       " Row(route='main-archive-bonus', count=117),\n",
       " Row(route='main-internet-bonus', count=115),\n",
       " Row(route='main-tariffs-internet', count=113),\n",
       " Row(route='main-news-archive', count=113),\n",
       " Row(route='main-news-internet', count=109),\n",
       " Row(route='main-archive-tariffs', count=104),\n",
       " Row(route='main-internet-news', count=103),\n",
       " Row(route='main-tariffs-archive', count=103),\n",
       " Row(route='main-rabota-main', count=94)]"
      ]
     },
     "execution_count": 21,
     "metadata": {},
     "output_type": "execute_result"
    }
   ],
   "source": [
    "# count unique routes and take top-30 \n",
    "\n",
    "top_routes_df = generated_routes_df \\\n",
    "    .groupBy(\"route\") \\\n",
    "    .count() \\\n",
    "    .orderBy(F.col(\"count\").desc()) \\\n",
    "    .limit(30)\n",
    "\n",
    "top_routes_df.collect()"
   ]
  },
  {
   "cell_type": "code",
   "execution_count": 22,
   "metadata": {
    "tags": []
   },
   "outputs": [
    {
     "name": "stderr",
     "output_type": "stream",
     "text": [
      "                                                                                \r"
     ]
    },
    {
     "name": "stdout",
     "output_type": "stream",
     "text": [
      "Found 2 items\n",
      "-rw-r--r--   1 jovyan supergroup          0 2024-10-27 12:38 hdfs:///data/top_routes_df/_SUCCESS\n",
      "-rw-r--r--   1 jovyan supergroup        632 2024-10-27 12:38 hdfs:///data/top_routes_df/part-00000-a386d9b7-ae0c-4a7e-8687-0724617a0b30-c000.csv\n"
     ]
    }
   ],
   "source": [
    "# write solution file\n",
    "\n",
    "top_routes_df \\\n",
    "    .coalesce(1) \\\n",
    "    .write \\\n",
    "    .mode(\"overwrite\") \\\n",
    "    .option(\"sep\", \"\\t\") \\\n",
    "    .csv(\"hdfs:/data/top_routes_df\")\n",
    "\n",
    "!rm -f ./top_routes_df.txt\n",
    "!hdfs dfs -ls hdfs:/data/top_routes_df\n",
    "!hdfs dfs -get hdfs:/data/top_routes_df/part-00000-* ./top_routes_df.txt"
   ]
  },
  {
   "cell_type": "code",
   "execution_count": 23,
   "metadata": {
    "tags": []
   },
   "outputs": [
    {
     "name": "stderr",
     "output_type": "stream",
     "text": [
      "                                                                                \r"
     ]
    },
    {
     "data": {
      "text/plain": [
       "{'main': 8185,\n",
       " 'main-archive': 1113,\n",
       " 'main-rabota': 1047,\n",
       " 'main-internet': 897,\n",
       " 'main-bonus': 870,\n",
       " 'main-news': 769,\n",
       " 'main-tariffs': 677,\n",
       " 'main-online': 587,\n",
       " 'main-vklad': 518,\n",
       " 'main-rabota-archive': 170}"
      ]
     },
     "execution_count": 23,
     "metadata": {},
     "output_type": "execute_result"
    }
   ],
   "source": [
    "top_10_routes_df = top_routes_df.limit(10).collect()\n",
    "top_10_routes_df_list = {row['route']: row['count'] for row in top_10_routes_df}\n",
    "\n",
    "top_10_routes_df_list"
   ]
  },
  {
   "cell_type": "code",
   "execution_count": null,
   "metadata": {},
   "outputs": [],
   "source": []
  },
  {
   "cell_type": "code",
   "execution_count": 24,
   "metadata": {
    "tags": []
   },
   "outputs": [],
   "source": [
    "# close Spark session\n",
    "\n",
    "se.stop()\n",
    "sc.stop()"
   ]
  },
  {
   "cell_type": "markdown",
   "metadata": {},
   "source": [
    "### Grader check"
   ]
  },
  {
   "cell_type": "code",
   "execution_count": 25,
   "metadata": {
    "tags": []
   },
   "outputs": [],
   "source": [
    "import json\n",
    "\n",
    "with open('result.json', 'w') as f:\n",
    "    json.dump(top_10_routes_df_list, f)"
   ]
  },
  {
   "cell_type": "code",
   "execution_count": 26,
   "metadata": {},
   "outputs": [
    {
     "name": "stdout",
     "output_type": "stream",
     "text": [
      "0.9999999999999999\n",
      "Correct main answer!\n",
      "Correct main-archive answer!\n",
      "Correct main-rabota answer!\n",
      "Correct main-internet answer!\n",
      "Correct main-bonus answer!\n",
      "Correct main-news answer!\n",
      "Correct main-tariffs answer!\n",
      "Correct main-online answer!\n",
      "Correct main-vklad answer!\n",
      "Correct main-rabota-archive answer!\n"
     ]
    }
   ],
   "source": [
    "# !curl -F file=@result.json 51.250.123.136:80/MDS-LSML1/pyatykhina/w6/2"
   ]
  },
  {
   "cell_type": "code",
   "execution_count": null,
   "metadata": {},
   "outputs": [],
   "source": []
  }
 ],
 "metadata": {
  "coursera": {
   "schema_names": [
    "week-4-spark-homework"
   ]
  },
  "kernelspec": {
   "display_name": "Python 3 (ipykernel)",
   "language": "python",
   "name": "python3"
  },
  "language_info": {
   "codemirror_mode": {
    "name": "ipython",
    "version": 3
   },
   "file_extension": ".py",
   "mimetype": "text/x-python",
   "name": "python",
   "nbconvert_exporter": "python",
   "pygments_lexer": "ipython3",
   "version": "3.10.9"
  },
  "vscode": {
   "interpreter": {
    "hash": "31f2aee4e71d21fbe5cf8b01ff0e069b9275f58929596ceb00d14d90e3e16cd6"
   }
  }
 },
 "nbformat": 4,
 "nbformat_minor": 4
}
